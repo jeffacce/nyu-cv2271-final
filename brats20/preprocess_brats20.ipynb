{
 "cells": [
  {
   "cell_type": "code",
   "execution_count": 1,
   "id": "b329d6dc-d22b-4d11-95b5-e26fe76c601b",
   "metadata": {},
   "outputs": [],
   "source": [
    "import numpy as np\n",
    "import matplotlib.pyplot as plt\n",
    "import os, re\n",
    "from matplotlib import colors\n",
    "from tqdm.notebook import tqdm\n",
    "from IPython.display import clear_output\n",
    "import SimpleITK as sitk"
   ]
  },
  {
   "cell_type": "code",
   "execution_count": 2,
   "id": "ce218627-f685-4748-a5cc-9944a41a5104",
   "metadata": {},
   "outputs": [],
   "source": [
    "\"\"\"\n",
    "Data load info. loaders:\n",
    "- input: abs. path to dir. with data\n",
    "- output: a dictionary with\n",
    "    - key: img #\n",
    "    - val: absolute dir. to each img\n",
    "\"\"\"\n",
    "\n",
    "# load data\n",
    "def load_data_to_dictionaries(path):\n",
    "    \"\"\"\n",
    "    output dictionaries that record the input file paths\n",
    "    \"\"\"\n",
    "    data = {}\n",
    "    for dirname, _, filenames in os.walk(path):\n",
    "        for filename in filenames:\n",
    "            if filename.split('.')[1] == 'csv':\n",
    "                continue\n",
    "            name_split = filename.split('_')\n",
    "            idx = int(name_split[2])\n",
    "            file_type = name_split[3].split('.')[0]\n",
    "            if file_type not in data.keys():\n",
    "                data[file_type] = {idx: os.path.join(dirname, filename)}\n",
    "            else:\n",
    "                data[file_type].update({idx: os.path.join(dirname, filename)})\n",
    "    return data"
   ]
  },
  {
   "cell_type": "code",
   "execution_count": 3,
   "id": "52e9309a-953f-455f-af13-b7b7d332c11f",
   "metadata": {},
   "outputs": [],
   "source": [
    "train_data = load_data_to_dictionaries('/scratch/ec2684/cv/data/brats20/nii/train')\n",
    "val_data = load_data_to_dictionaries('/scratch/ec2684/cv/data/brats20/nii/val')"
   ]
  },
  {
   "cell_type": "code",
   "execution_count": 4,
   "id": "f65a16ce-af41-47ca-97aa-585346bdb7b7",
   "metadata": {},
   "outputs": [
    {
     "data": {
      "text/plain": [
       "dict_keys(['seg', 't1', 't2', 't1ce', 'flair'])"
      ]
     },
     "execution_count": 4,
     "metadata": {},
     "output_type": "execute_result"
    }
   ],
   "source": [
    "train_data.keys()"
   ]
  },
  {
   "cell_type": "code",
   "execution_count": 9,
   "id": "8aeb88f0-a1ff-40ac-bb48-4bf7cb4d0a36",
   "metadata": {},
   "outputs": [],
   "source": [
    "# check the data stored in 'seg', 't1', 't2', 't1ce', 'flair' have no missing data\n",
    "# (check there exists 369 scans for each scan types)\n",
    "def check_data(data):    \n",
    "    all_match = True\n",
    "\n",
    "    for key1 in tqdm(data.keys()):\n",
    "        for key2 in tqdm(data.keys()):\n",
    "            all_match = all_match and \\\n",
    "            (sorted(data[key1].keys()) == sorted(data[key2].keys()))\n",
    "\n",
    "    print(all_match)\n",
    "\n",
    "check_data(train_data)\n",
    "check_data(val_data)"
   ]
  },
  {
   "cell_type": "code",
   "execution_count": 10,
   "id": "3c712deb-0f99-41b5-9200-572ab12ace65",
   "metadata": {},
   "outputs": [],
   "source": [
    "# check the data stored in 'seg', 't1', 't2', 't1ce', 'flair' have (1,1,1) spacing\n",
    "\n",
    "def check_unit_spacing(data):    \n",
    "    all_match = True\n",
    "\n",
    "    for key1 in tqdm(data.keys()):\n",
    "        for key2 in tqdm(data[key1].keys()):\n",
    "            vol = sitk.ReadImage(data[key1][key2], sitk.sitkInt16)\n",
    "            all_match = all_match and \\\n",
    "            (vol.GetSpacing() == (1.,1.,1.))\n",
    "\n",
    "    print(all_match)\n",
    "    \n",
    "check_unit_spacing(train_data)\n",
    "check_unit_spacing(val_data)"
   ]
  },
  {
   "cell_type": "code",
   "execution_count": 13,
   "id": "8fd1aae6-8a7e-4675-b8bc-9a7727d9c47c",
   "metadata": {},
   "outputs": [],
   "source": [
    "# check if data stored in 'seg', 't1', 't2', 't1ce', 'flair' all have (155,240,240) shape\n",
    "\n",
    "uniform_shape = True\n",
    "\n",
    "for key1 in tqdm(train_data.keys()):\n",
    "    for key2 in tqdm(train_data[key1].keys()):\n",
    "        data = sitk.ReadImage(train_data[key1][key2], sitk.sitkInt16)\n",
    "        data_array = sitk.GetArrayFromImage(data)\n",
    "        uniform_shape = uniform_shape and (data_array.shape == (155,240,240))\n",
    "\n",
    "print(uniform_shape)"
   ]
  },
  {
   "cell_type": "code",
   "execution_count": null,
   "id": "7c9f8728-28c2-4258-b985-2f1a9bfc567e",
   "metadata": {},
   "outputs": [],
   "source": [
    "'''\n",
    "##### Imaging Data Description: #####\n",
    "All BraTS multimodal scans are:\n",
    "- in NIfTI format (.nii.gz)\n",
    "- describe:\n",
    "    a) native (T1)\n",
    "    b) post-contrast T1-weighted (T1Gd)\n",
    "    c) T2-weighted (T2)\n",
    "    d) T2 Fluid Attenuated Inversion Recovery (T2-FLAIR) volumes\n",
    "- acquired with:\n",
    "    - different clinical protocols\n",
    "    - various scanners from multiple (n=19) institutions\n",
    "\n",
    "- all the imaging datasets have been segmented manually, \n",
    "by one to four raters, following the same annotation protocol.\n",
    "- their annotations were approved by experienced neuro-radiologists. \n",
    "- Annotations comprise:\n",
    "    (NCR/NET — label 1) the necrotic and non-enhancing tumor core\n",
    "    (ED — label 2) the peritumoral edema \n",
    "    (ET — label 4) the GD-enhancing tumor\n",
    "    \n",
    "- The provided data are distributed after their pre-processing, \n",
    "i.e., co-registered to the same anatomical template, interpolated \n",
    "to the same resolution (1 mm^3) and skull-stripped.\n",
    "''';"
   ]
  },
  {
   "cell_type": "code",
   "execution_count": 14,
   "id": "4ae23eff-c508-4d96-9ac9-d53c468ae04c",
   "metadata": {},
   "outputs": [],
   "source": [
    "# check min max voxel values for 't1', 't2', 't1ce', 'flair'\n",
    "# where 'seg' values are greater than 1\n",
    "\n",
    "def voxel_range(data):    \n",
    "    max_voxel = -1E5\n",
    "    min_voxel = 1E5\n",
    "    ranges = {}\n",
    "    for key in data.keys():\n",
    "        if key == 'seg':\n",
    "            continue\n",
    "        ranges[key] = [min_voxel,max_voxel]\n",
    "    for key1 in tqdm(data.keys()):\n",
    "        if key1 == 'seg':\n",
    "            continue\n",
    "        for key2 in tqdm(data[key1].keys()):\n",
    "            seg = sitk.ReadImage(data['seg'][key2], sitk.sitkInt8)\n",
    "            seg_array = sitk.GetArrayFromImage(seg)\n",
    "            vol = sitk.ReadImage(data[key1][key2], sitk.sitkInt16)\n",
    "            vol_array = sitk.GetArrayFromImage(vol)\n",
    "            vol_array = vol_array[seg_array > 0]\n",
    "            ranges[key1][0] = min(ranges[key1][0],np.min(vol_array))\n",
    "            ranges[key1][1] = max(ranges[key1][1],np.max(vol_array))\n",
    "    return ranges"
   ]
  },
  {
   "cell_type": "code",
   "execution_count": 16,
   "id": "3886d078-8408-45fc-82b2-8d3a9606972d",
   "metadata": {},
   "outputs": [],
   "source": [
    "train_ranges = voxel_range(train_data)"
   ]
  },
  {
   "cell_type": "code",
   "execution_count": null,
   "id": "1eb37087-2710-41ac-8992-37400e5f0b85",
   "metadata": {},
   "outputs": [
    {
     "data": {
      "text/plain": [
       "{'t1': [0, 21113], 't2': [0, 31404], 't1ce': [0, 18011], 'flair': [0, 29422]}"
      ]
     },
     "execution_count": 90,
     "metadata": {},
     "output_type": "execute_result"
    }
   ],
   "source": [
    "train_ranges"
   ]
  },
  {
   "cell_type": "code",
   "execution_count": 17,
   "id": "d2b1bfa3-ddc1-40ef-9f63-2b7852feb68f",
   "metadata": {},
   "outputs": [],
   "source": [
    "# count voxel values for 't1', 't2', 't1ce', 'flair'\n",
    "# where 'seg' values are greater than 1\n",
    "\n",
    "def voxel_cnt(data):\n",
    "    ranges = {}\n",
    "    for key in data.keys():\n",
    "        if key == 'seg':\n",
    "            continue\n",
    "        ranges[key] = np.zeros(31405)\n",
    "    for key1 in tqdm(data.keys()):\n",
    "        if key1 == 'seg':\n",
    "            continue\n",
    "        for key2 in tqdm(data[key1].keys()):\n",
    "            seg = sitk.ReadImage(data['seg'][key2], sitk.sitkInt8)\n",
    "            seg_array = sitk.GetArrayFromImage(seg)\n",
    "            vol = sitk.ReadImage(data[key1][key2], sitk.sitkInt16)\n",
    "            vol_array = sitk.GetArrayFromImage(vol)\n",
    "            vol_array = vol_array[seg_array > 0]\n",
    "            unique, counts = np.unique(vol_array, return_counts=True)\n",
    "            for idx, num in enumerate(unique):\n",
    "                ranges[key1][num] = ranges[key1][num] + counts[idx]\n",
    "    return ranges"
   ]
  },
  {
   "cell_type": "code",
   "execution_count": 19,
   "id": "4492e106-f532-42fb-8034-cac448f95f32",
   "metadata": {},
   "outputs": [],
   "source": [
    "train_cnt = voxel_cnt(train_data)"
   ]
  },
  {
   "cell_type": "code",
   "execution_count": null,
   "id": "e8fa213e-e2ae-4241-9cd5-485c28b661da",
   "metadata": {},
   "outputs": [
    {
     "name": "stdout",
     "output_type": "stream",
     "text": [
      "t1\n",
      "mean: 694.837275449542\n",
      "95% voxel: 2197\n",
      "\n",
      "t2\n",
      "mean: 1181.4516712400637\n",
      "95% voxel: 2858\n",
      "\n",
      "t1ce\n",
      "mean: 830.4526936526679\n",
      "95% voxel: 2969\n",
      "\n",
      "flair\n",
      "mean: 815.7834883957967\n",
      "95% voxel: 1333\n",
      "\n"
     ]
    }
   ],
   "source": [
    "# get the 95% voxel values range\n",
    "\n",
    "for key in train_ranges.keys():\n",
    "    N = np.sum(train_cnt[key])\n",
    "    a = 0.95\n",
    "    max_range = a*N\n",
    "    print(key)\n",
    "    print(f'mean: {np.dot(np.arange(len(train_cnt[key])),train_cnt[key])/N}')\n",
    "    print(f'95% voxel: {np.where(np.cumsum(train_cnt[key]) < max_range)[0][-1]}')\n",
    "    print()"
   ]
  },
  {
   "cell_type": "code",
   "execution_count": null,
   "id": "3ff4bf90-95ba-4e21-ad6f-bea56dc3d423",
   "metadata": {},
   "outputs": [],
   "source": [
    "# decided to clip each scans by the 95% voxel values above before normalizing"
   ]
  },
  {
   "cell_type": "code",
   "execution_count": 20,
   "id": "901fdc99-f39b-448e-8191-b29eaf5ba339",
   "metadata": {},
   "outputs": [
    {
     "name": "stdout",
     "output_type": "stream",
     "text": [
      "/scratch/ec2684/cv/brats20\n"
     ]
    }
   ],
   "source": [
    "!pwd"
   ]
  },
  {
   "cell_type": "code",
   "execution_count": null,
   "id": "c3281b19-1b6a-45df-8004-3862a87b5323",
   "metadata": {},
   "outputs": [],
   "source": []
  }
 ],
 "metadata": {
  "kernelspec": {
   "display_name": "Python 3",
   "language": "python",
   "name": "python3"
  },
  "language_info": {
   "codemirror_mode": {
    "name": "ipython",
    "version": 3
   },
   "file_extension": ".py",
   "mimetype": "text/x-python",
   "name": "python",
   "nbconvert_exporter": "python",
   "pygments_lexer": "ipython3",
   "version": "3.8.5"
  }
 },
 "nbformat": 4,
 "nbformat_minor": 5
}
