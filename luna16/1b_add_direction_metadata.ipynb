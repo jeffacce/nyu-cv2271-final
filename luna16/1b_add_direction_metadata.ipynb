{
 "cells": [
  {
   "cell_type": "code",
   "execution_count": 168,
   "id": "029f01cf-c917-498b-a788-307a57636d1a",
   "metadata": {},
   "outputs": [],
   "source": [
    "import numpy as np\n",
    "import pandas as pd\n",
    "import pydicom\n",
    "import os\n",
    "import scipy.ndimage\n",
    "import matplotlib.pyplot as plt\n",
    "from matplotlib import patches\n",
    "import SimpleITK as sitk\n",
    "from skimage import measure, morphology\n",
    "from mpl_toolkits.mplot3d.art3d import Poly3DCollection\n",
    "from pathlib import Path\n",
    "import json\n",
    "from preproc import load_scan, resample\n",
    "from tqdm.notebook import tqdm\n",
    "\n",
    "ROOT_ISO = Path('/scratch/zc2357/cv/final/datasets/luna16_iso')\n",
    "\n",
    "with open(ROOT_ISO / 'uid_to_subset.json') as f:\n",
    "    uid_to_subset = json.load(f)\n",
    "\n",
    "candidates = pd.read_csv(ROOT_ISO / 'candidates_V2.csv').set_index('seriesuid')\n",
    "metadata = pd.read_csv(ROOT_ISO / 'seriesuid_isometric_spacing_origin.csv').set_index('seriesuid')\n",
    "metadata['directionX'] = 100\n",
    "metadata['directionY'] = 100\n",
    "metadata['directionZ'] = 100\n",
    "\n",
    "ROOT_RAW = Path('/scratch/zc2357/cv/final/datasets/luna16')\n",
    "\n",
    "for seriesuid, subset in tqdm(uid_to_subset.items()):\n",
    "    img, arr = load_scan((ROOT_RAW / subset / (seriesuid + '.mhd')).as_posix())\n",
    "    direction = np.array(img.GetDirection()).round(5)\n",
    "    directionX, directionY, directionZ = direction[[0, 4, 8]]  # assuming diagonal\n",
    "    metadata.loc[seriesuid, 'directionX'] = directionX\n",
    "    metadata.loc[seriesuid, 'directionY'] = directionY\n",
    "    metadata.loc[seriesuid, 'directionZ'] = directionZ\n",
    "\n",
    "metadata.reset_index().to_csv(ROOT_ISO / 'seriesuid_isometric_spacing_origin_direction.csv', index=False)\n",
    "df = pd.read_csv(ROOT_ISO / 'seriesuid_isometric_spacing_origin_direction.csv')"
   ]
  }
 ],
 "metadata": {
  "kernelspec": {
   "display_name": "Python 3 (ipykernel)",
   "language": "python",
   "name": "python3"
  },
  "language_info": {
   "codemirror_mode": {
    "name": "ipython",
    "version": 3
   },
   "file_extension": ".py",
   "mimetype": "text/x-python",
   "name": "python",
   "nbconvert_exporter": "python",
   "pygments_lexer": "ipython3",
   "version": "3.9.5"
  }
 },
 "nbformat": 4,
 "nbformat_minor": 5
}
