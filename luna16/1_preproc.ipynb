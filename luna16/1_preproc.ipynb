{
 "cells": [
  {
   "cell_type": "code",
   "execution_count": 1,
   "id": "e8f34101-f5e6-47ad-ae2b-6ab282ba9362",
   "metadata": {},
   "outputs": [],
   "source": [
    "# https://www.kaggle.com/gzuidhof/full-preprocessing-tutorial\n",
    "\n",
    "import numpy as np\n",
    "import pandas as pd\n",
    "import pydicom\n",
    "import os\n",
    "import scipy.ndimage\n",
    "import matplotlib.pyplot as plt\n",
    "import SimpleITK as sitk\n",
    "from skimage import measure, morphology\n",
    "from preproc import load_scan, resample\n",
    "from mpl_toolkits.mplot3d.art3d import Poly3DCollection"
   ]
  },
  {
   "cell_type": "code",
   "execution_count": 4,
   "id": "d90088a4-4df8-4597-880b-0511f11db2c6",
   "metadata": {},
   "outputs": [],
   "source": [
    "INPUT_FOLDER = '../../datasets/luna16/subset0/'\n",
    "patients = [os.path.join(INPUT_FOLDER, x) for x in os.listdir(INPUT_FOLDER) if 'mhd' in x]\n",
    "patients.sort()"
   ]
  },
  {
   "cell_type": "code",
   "execution_count": 5,
   "id": "c5ec4ced-7611-4fda-9b8f-e093ff490a28",
   "metadata": {},
   "outputs": [],
   "source": [
    "img, arr = load_scan(patients[1])"
   ]
  },
  {
   "cell_type": "code",
   "execution_count": 11,
   "id": "fcc73936-2f73-42dc-88bd-7fe6dfcb9408",
   "metadata": {},
   "outputs": [
    {
     "data": {
      "text/plain": [
       "10.837063484735756"
      ]
     },
     "execution_count": 11,
     "metadata": {},
     "output_type": "execute_result"
    }
   ],
   "source": [
    "np.std(diff)"
   ]
  },
  {
   "cell_type": "code",
   "execution_count": 12,
   "id": "d238c81c-3d88-4e83-928f-43c7dd44a274",
   "metadata": {},
   "outputs": [
    {
     "data": {
      "text/plain": [
       "0.1152237323151917"
      ]
     },
     "execution_count": 12,
     "metadata": {},
     "output_type": "execute_result"
    }
   ],
   "source": [
    "np.mean(diff)"
   ]
  },
  {
   "cell_type": "code",
   "execution_count": null,
   "id": "1e9f9b8e-61bd-4016-8cc2-7389d28921b5",
   "metadata": {},
   "outputs": [],
   "source": []
  }
 ],
 "metadata": {
  "kernelspec": {
   "display_name": "Python 3 (ipykernel)",
   "language": "python",
   "name": "python3"
  },
  "language_info": {
   "codemirror_mode": {
    "name": "ipython",
    "version": 3
   },
   "file_extension": ".py",
   "mimetype": "text/x-python",
   "name": "python",
   "nbconvert_exporter": "python",
   "pygments_lexer": "ipython3",
   "version": "3.9.5"
  }
 },
 "nbformat": 4,
 "nbformat_minor": 5
}
