{
 "cells": [
  {
   "cell_type": "code",
   "execution_count": 44,
   "id": "4e3957b7-44ba-4129-bb51-e3bc387fc67f",
   "metadata": {},
   "outputs": [],
   "source": [
    "import pandas as pd\n",
    "import numpy as np\n",
    "import os\n",
    "import scipy.ndimage\n",
    "import matplotlib.pyplot as plt\n",
    "import SimpleITK as sitk\n",
    "from pathlib import Path\n",
    "import json\n",
    "from preproc import load_scan, resample\n",
    "from tqdm.notebook import tqdm\n",
    "\n",
    "\n",
    "ROOT_RAW = Path('/scratch/zc2357/cv/final/datasets/luna16')\n",
    "ROOT_ISO = Path('/scratch/zc2357/cv/final/datasets/luna16_iso')\n",
    "\n",
    "with open(ROOT_RAW / 'uid_to_subset.json') as f:\n",
    "    uid_to_subset = json.load(f)\n",
    "\n",
    "if not ROOT_ISO.exists():\n",
    "    ROOT_ISO.mkdir()"
   ]
  },
  {
   "cell_type": "code",
   "execution_count": 45,
   "id": "dd412ad8-3bca-46e8-970e-f8810fc424e9",
   "metadata": {},
   "outputs": [],
   "source": [
    "df = []\n",
    "\n",
    "for seriesuid, subset_idx in list(uid_to_subset.items())[:1]:\n",
    "    loadpath = ROOT_RAW / subset_idx / (seriesuid + '.mhd')\n",
    "    img, arr = load_scan(loadpath.as_posix())\n",
    "    originX, originY, originZ = img.GetOrigin()\n",
    "    arr_iso, spacing_iso = resample(arr, img.GetSpacing())\n",
    "    spacingX, spacingY, spacingZ = spacing_iso\n",
    "    row = [seriesuid, spacingX, spacingY, spacingZ, originX, originY, originZ]\n",
    "    df.append(row)\n",
    "    \n",
    "    if not (ROOT_ISO / subset_idx).exists():\n",
    "        (ROOT_ISO / subset_idx).mkdir()\n",
    "    \n",
    "    savepath = ROOT_ISO / subset_idx / (seriesuid + '.npy')\n",
    "    np.save(savepath, arr_iso)"
   ]
  },
  {
   "cell_type": "code",
   "execution_count": 46,
   "id": "6bd1d38c-74bb-4732-ba46-4688177c2231",
   "metadata": {},
   "outputs": [],
   "source": [
    "df = pd.DataFrame(df)\n",
    "df.columns = ['seriesuid', 'spacingX', 'spacingY', 'spacingZ', 'originX', 'originY', 'originZ']\n",
    "df.to_csv(ROOT_ISO / 'seriesuid_isometric_spacing_origin.csv', index=False)"
   ]
  },
  {
   "cell_type": "code",
   "execution_count": null,
   "id": "bc0f5b8d-9832-4bc1-91cd-2b2f53073dc6",
   "metadata": {},
   "outputs": [],
   "source": []
  }
 ],
 "metadata": {
  "kernelspec": {
   "display_name": "Python 3 (ipykernel)",
   "language": "python",
   "name": "python3"
  },
  "language_info": {
   "codemirror_mode": {
    "name": "ipython",
    "version": 3
   },
   "file_extension": ".py",
   "mimetype": "text/x-python",
   "name": "python",
   "nbconvert_exporter": "python",
   "pygments_lexer": "ipython3",
   "version": "3.9.5"
  }
 },
 "nbformat": 4,
 "nbformat_minor": 5
}
