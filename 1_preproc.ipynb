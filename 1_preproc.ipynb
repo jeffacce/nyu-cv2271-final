{
 "cells": [
  {
   "cell_type": "code",
   "execution_count": 1,
   "id": "e8f34101-f5e6-47ad-ae2b-6ab282ba9362",
   "metadata": {},
   "outputs": [],
   "source": [
    "# https://www.kaggle.com/gzuidhof/full-preprocessing-tutorial\n",
    "\n",
    "import numpy as np\n",
    "import pandas as pd\n",
    "import pydicom\n",
    "import os\n",
    "import scipy.ndimage\n",
    "import matplotlib.pyplot as plt\n",
    "import SimpleITK as sitk\n",
    "from skimage import measure, morphology\n",
    "from mpl_toolkits.mplot3d.art3d import Poly3DCollection"
   ]
  },
  {
   "cell_type": "code",
   "execution_count": 2,
   "id": "d90088a4-4df8-4597-880b-0511f11db2c6",
   "metadata": {},
   "outputs": [],
   "source": [
    "INPUT_FOLDER = '../datasets/luna16/subset0/'\n",
    "patients = [os.path.join(INPUT_FOLDER, x) for x in os.listdir(INPUT_FOLDER) if 'mhd' in x]\n",
    "patients.sort()"
   ]
  },
  {
   "cell_type": "code",
   "execution_count": 1,
   "id": "b609c5b1-bbfe-40a5-a744-43ede1d8d870",
   "metadata": {},
   "outputs": [],
   "source": [
    "# TODO: save the processed version to another folder, with rescaled info. Keep the subsets separate for 10-fold-CV"
   ]
  },
  {
   "cell_type": "code",
   "execution_count": 4,
   "id": "365762f2-8e01-491c-905b-7d48e7e5732a",
   "metadata": {},
   "outputs": [],
   "source": [
    "def load_scan(path):\n",
    "    img = sitk.ReadImage(path)\n",
    "    arr = sitk.GetArrayFromImage(img)\n",
    "    arr = arr.clip(min=-1000)  # air is -1000. < -1000 is out of scanner bounds (essentially NaN); clip to -1000\n",
    "    arr = np.moveaxis(arr, 0, -1)\n",
    "    return img, arr"
   ]
  },
  {
   "cell_type": "code",
   "execution_count": 5,
   "id": "1caee41b-5f40-4e9c-bfe4-33eae7c27e2b",
   "metadata": {},
   "outputs": [],
   "source": [
    "def resample(arr, orig_spacing, new_spacing=[1,1,1]):\n",
    "    orig_spacing = np.array(orig_spacing)\n",
    "    new_spacing = np.array(new_spacing)\n",
    "\n",
    "    resize_factor = orig_spacing / new_spacing\n",
    "    new_shape = np.round(arr.shape * resize_factor)\n",
    "    real_resize_factor = new_shape / arr.shape\n",
    "    new_spacing = orig_spacing / real_resize_factor\n",
    "\n",
    "    result = scipy.ndimage.interpolation.zoom(arr, real_resize_factor, mode='nearest')\n",
    "    result = result.clip(arr.min(), arr.max())\n",
    "    return result, new_spacing"
   ]
  },
  {
   "cell_type": "code",
   "execution_count": 6,
   "id": "c5ec4ced-7611-4fda-9b8f-e093ff490a28",
   "metadata": {},
   "outputs": [],
   "source": [
    "img, arr = load_scan(patients[1])"
   ]
  },
  {
   "cell_type": "code",
   "execution_count": 8,
   "id": "2790feb3-5dd9-48ab-b350-d1d7a71c8d67",
   "metadata": {
    "tags": []
   },
   "outputs": [],
   "source": [
    "# TODO: refactor to test cases\n",
    "img, arr = load_scan(patients[1])\n",
    "arr_iso, spacing_iso = resample(arr, img.GetSpacing())\n",
    "arr_orig_resampled, spacing_orig_resampled = resample(arr_iso, spacing_iso, new_spacing=img.GetSpacing())\n",
    "\n",
    "assert arr_orig_resampled.shape == arr.shape\n",
    "assert np.isclose(spacing_orig_resampled, img.GetSpacing()).all()"
   ]
  },
  {
   "cell_type": "code",
   "execution_count": 9,
   "id": "9fb9aa88-62f4-4626-9908-19ec45464f54",
   "metadata": {},
   "outputs": [],
   "source": [
    "diff = arr_orig_resampled - arr"
   ]
  },
  {
   "cell_type": "code",
   "execution_count": null,
   "id": "fcc73936-2f73-42dc-88bd-7fe6dfcb9408",
   "metadata": {},
   "outputs": [],
   "source": []
  }
 ],
 "metadata": {
  "kernelspec": {
   "display_name": "Python 3 (ipykernel)",
   "language": "python",
   "name": "python3"
  },
  "language_info": {
   "codemirror_mode": {
    "name": "ipython",
    "version": 3
   },
   "file_extension": ".py",
   "mimetype": "text/x-python",
   "name": "python",
   "nbconvert_exporter": "python",
   "pygments_lexer": "ipython3",
   "version": "3.9.5"
  }
 },
 "nbformat": 4,
 "nbformat_minor": 5
}
